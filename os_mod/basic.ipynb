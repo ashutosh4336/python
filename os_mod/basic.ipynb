{
 "cells": [
  {
   "cell_type": "code",
   "execution_count": 7,
   "metadata": {},
   "outputs": [],
   "source": [
    "import datetime\n",
    "import pytz\n",
    "import crypto"
   ]
  },
  {
   "cell_type": "code",
   "execution_count": 8,
   "metadata": {},
   "outputs": [
    {
     "name": "stdout",
     "output_type": "stream",
     "text": [
      "str(a): 2020-05-15 06:31:41.556084+00:00\n",
      "str(b): 2020-05-15 06:31:41.556084+00:00\n",
      "------------------------------\n",
      "repr(a): datetime.datetime(2020, 5, 15, 6, 31, 41, 556084, tzinfo=<UTC>)\n",
      "repr(b): '2020-05-15 06:31:41.556084+00:00'\n"
     ]
    }
   ],
   "source": [
    "\n",
    "a = datetime.datetime.utcnow().replace(tzinfo=pytz.UTC)\n",
    "b = str(a)\n",
    "\n",
    "print('str(a): {}'.format(str(a)))\n",
    "print('str(b): {}'.format(str(b)))\n",
    "print('------------------------------')\n",
    "\n",
    "\n",
    "print('repr(a): {}'.format(repr(a)))\n",
    "print('repr(b): {}'.format(repr(b)))"
   ]
  },
  {
   "cell_type": "code",
   "execution_count": null,
   "metadata": {},
   "outputs": [],
   "source": []
  }
 ],
 "metadata": {
  "kernelspec": {
   "display_name": "Python 3",
   "language": "python",
   "name": "python3"
  },
  "language_info": {
   "codemirror_mode": {
    "name": "ipython",
    "version": 3
   },
   "file_extension": ".py",
   "mimetype": "text/x-python",
   "name": "python",
   "nbconvert_exporter": "python",
   "pygments_lexer": "ipython3",
   "version": "3.7.6"
  }
 },
 "nbformat": 4,
 "nbformat_minor": 4
}
